{
 "cells": [
  {
   "cell_type": "markdown",
   "id": "d912ae07-6dda-4f8a-b84a-0a4d54ef92fb",
   "metadata": {},
   "source": [
    "<h1 style=\"color:#9A11DA;\"> What is a Hadamard Test?</h1> \n",
    "The Hadamard Test allows for estimating the measurment $\\langle \\psi | U | \\psi \\rangle$ for a unitary operation $U$ and a quantum state $|\\psi \\rangle$. In this challenge you'll be working on creating the Hadamard Test for measuring both real and imaginary values on various quantum computers. \n",
    "\n",
    "Here's some documentation for you to get started:\n",
    "\n",
    "[Wikipedia](https://en.wikipedia.org/wiki/Hadamard_test_(quantum_computation))\n",
    "\n",
    "[Victoroy Omole's Blog on QPE and Hadamard Test](https://vtomole.com/blog/2018/05/20/pea)\n"
   ]
  },
  {
   "cell_type": "markdown",
   "id": "5899ada3-b2a9-4caf-a452-af0ae617e994",
   "metadata": {
    "jp-MarkdownHeadingCollapsed": true,
    "tags": []
   },
   "source": [
    "<h2 style=\"color:#9A11DA;\">qBraid SDK</h2> \n",
    "\n",
    "qBraid-SDK is our tool to braid various quantum SDKs into one cohesive experience. With qBraid-SDK, you can develop quantum circuits and run them on quantum computers available from, IBM, Rigetti, OQC, and IonQ. You are also welcome to develop your quantum circuits in the language of your choice (qiskit, cirq, braket, or qasm) and specify the quantum device you want to run them, and qBraid-SDK will run the circuits and get you the results. qBraid-SDK includes a transpiler which allows it to convert the circuits between various languages. You can also use the transpiler for your quantum code. The SDK also has many auxiliary features that allow you to keep track of your quantum jobs and find out the status of various quantum computers. \n",
    "Learn more about the qBraid-SDK at https://qbraid-qbraid.readthedocs-hosted.com/en/latest/sdk/overview.html"
   ]
  },
  {
   "cell_type": "markdown",
   "id": "ea514a0e-d4b9-4769-bb27-b00c9d3fd10e",
   "metadata": {
    "jp-MarkdownHeadingCollapsed": true,
    "tags": []
   },
   "source": [
    "<h2 style=\"color:#9A11DA;\">Getting Started </h2>\n",
    "\n",
    "### Add permissions and credits\n",
    "1. Make sure you have added the code `QISKITFALL22` on your [account](https://account.qbraid.com/account-details)  in the **Add an access key** section.  If you already have already done this step move onto step 4.\n",
    "\n",
    "<img align=\"center\" width='350px' src='./images/account_details.png'>\n",
    "2. You should receive a message like this:\n",
    "\n",
    "<img align=\"center\" width='350px' src='./images/confirmed.png'>\n",
    "3. Reload this page!\n",
    "\n",
    "## Activate the qBraid SDK environment\n",
    "4. On the top right you should see the `ENVS` button. Click it!\n",
    "5. Click the +ADD button and open the drop down arrow \n",
    "\n",
    "<img align=\"center\"  width='100px' src='./images/add.png'>\n",
    "6. Install the qBraid SDK! It will take a few minutes.\n",
    "\n",
    "<img align=\"center\"  width='200px' src='./images/qbraid_sdk.png'>\n",
    "7. Activate the environment\n",
    "\n",
    "<img align=\"center\"  width='200px' src='./images/activate.png'>\n",
    "\n",
    "8. Activate the kernel\n",
    "\n",
    "<img align=\"center\"  width='200px' src='./images/kernel.png'>\n",
    "\n"
   ]
  },
  {
   "cell_type": "markdown",
   "id": "1351ca03-9c9d-482a-aead-16c0d29257fd",
   "metadata": {},
   "source": [
    "## You're all ready to go!\n",
    "By running the cell below you will be able to run quantum jobs on qBraid. Learn more about the qBraid SDK [here](https://qbraid-qbraid.readthedocs-hosted.com/en/stable/sdk/overview.html)\n",
    "\n",
    "### How to win\n",
    "**Creativity is key here.** Try to learn about what our SDK is capable and the various applications of the hadmard test. Some ideas can be to use the two functions to make a game, extend it in the likes of the Aharonov-Jones-Landau algorithm, computing inner products and more. \n",
    "\n",
    "**Run on multiple simulators and devices using the qBraid SDK's transpiling and job submitting functionality is also key!**\n",
    "\n",
    "**Write clean documentation and code** Clean code will help judges discern who understands the material and can conscisely explain it to others.\n",
    "\n",
    "**Provide installation instructions** If there are any additional installation/getting started steps please mention them!"
   ]
  },
  {
   "cell_type": "code",
   "execution_count": 1,
   "id": "3d7ae6f3-acd6-4666-913e-96f7cabefd8b",
   "metadata": {},
   "outputs": [
    {
     "name": "stdout",
     "output_type": "stream",
     "text": [
      "\u001b[0;35mYou have already enabled qBraid Quantum Jobs in the qbraid_sdk environment.\u001b[0m\n"
     ]
    }
   ],
   "source": [
    "! qbraid jobs enable qbraid_sdk"
   ]
  },
  {
   "cell_type": "code",
   "execution_count": 2,
   "id": "0fdb4b77-d896-43a9-86ac-ba86ef3e7847",
   "metadata": {},
   "outputs": [],
   "source": [
    "def hadamard_test_real():\n",
    "    # Your code here\n",
    "    pass"
   ]
  },
  {
   "cell_type": "code",
   "execution_count": 3,
   "id": "c77a65d0-5a2d-4977-81f3-c596e3ac1150",
   "metadata": {},
   "outputs": [],
   "source": [
    "def hadamard_test_imag():\n",
    "    # Your code here\n",
    "    pass"
   ]
  },
  {
   "cell_type": "markdown",
   "id": "19163a38-4b1d-490f-82d9-538e0e7fb1f0",
   "metadata": {},
   "source": [
    "### qBraid SDK DEMO: Run on various hardware\n"
   ]
  },
  {
   "cell_type": "code",
   "execution_count": 4,
   "id": "950081ce-169b-4b55-a640-200ec2387999",
   "metadata": {},
   "outputs": [],
   "source": [
    "from qbraid import get_devices\n",
    "from qiskit import IBMQ"
   ]
  },
  {
   "cell_type": "code",
   "execution_count": 5,
   "id": "bd49db4d-2815-4ce4-ad19-a2ec7bf2ff6e",
   "metadata": {},
   "outputs": [
    {
     "data": {
      "text/html": [
       "<h3>Supported Devices</h3><table><tr>\n",
       "    <th style='text-align:left'>Provider</th>\n",
       "    <th style='text-align:left'>Name</th>\n",
       "    <th style='text-align:left'>qBraid ID</th>\n",
       "    <th style='text-align:left'>Status</th></tr>\n",
       "    <tr>\n",
       "        <td style='text-align:left'>AWS</td>\n",
       "        <td style='text-align:left'>Braket Default Simulator</td>\n",
       "        <td style='text-align:left'><code>aws_braket_default_sim</code></td>\n",
       "        <td><span style='color:green'>●</span></td></tr>\n",
       "        <tr>\n",
       "        <td style='text-align:left'>AWS</td>\n",
       "        <td style='text-align:left'>Density Matrix Simulator</td>\n",
       "        <td style='text-align:left'><code>aws_dm_sim</code></td>\n",
       "        <td><span style='color:green'>●</span></td></tr>\n",
       "        <tr>\n",
       "        <td style='text-align:left'>AWS</td>\n",
       "        <td style='text-align:left'>State Vector Simulator</td>\n",
       "        <td style='text-align:left'><code>aws_sv_sim</code></td>\n",
       "        <td><span style='color:green'>●</span></td></tr>\n",
       "        <tr>\n",
       "        <td style='text-align:left'>AWS</td>\n",
       "        <td style='text-align:left'>Tensor Network Simulator</td>\n",
       "        <td style='text-align:left'><code>aws_tn_sim</code></td>\n",
       "        <td><span style='color:green'>●</span></td></tr>\n",
       "        <tr>\n",
       "        <td style='text-align:left'>D-Wave</td>\n",
       "        <td style='text-align:left'>Advantage_system4</td>\n",
       "        <td style='text-align:left'><code>aws_dwave_advantage_system4</code></td>\n",
       "        <td><span style='color:green'>●</span></td></tr>\n",
       "        <tr>\n",
       "        <td style='text-align:left'>D-Wave</td>\n",
       "        <td style='text-align:left'>DW_2000Q_6</td>\n",
       "        <td style='text-align:left'><code>aws_dwave_2000Q_6</code></td>\n",
       "        <td><span style='color:green'>●</span></td></tr>\n",
       "        <tr>\n",
       "        <td style='text-align:left'>Google</td>\n",
       "        <td style='text-align:left'>Bristlecone</td>\n",
       "        <td style='text-align:left'><code>google_bristlecone</code></td>\n",
       "        <td><span style='color:red'>○</span></td></tr>\n",
       "        <tr>\n",
       "        <td style='text-align:left'>Google</td>\n",
       "        <td style='text-align:left'>Cirq Density Matrix Simulator</td>\n",
       "        <td style='text-align:left'><code>google_cirq_dm_sim</code></td>\n",
       "        <td><span style='color:green'>●</span></td></tr>\n",
       "        <tr>\n",
       "        <td style='text-align:left'>Google</td>\n",
       "        <td style='text-align:left'>Cirq Sparse Simulator</td>\n",
       "        <td style='text-align:left'><code>google_cirq_sparse_sim</code></td>\n",
       "        <td><span style='color:green'>●</span></td></tr>\n",
       "        <tr>\n",
       "        <td style='text-align:left'>Google</td>\n",
       "        <td style='text-align:left'>Foxtail</td>\n",
       "        <td style='text-align:left'><code>google_foxtail</code></td>\n",
       "        <td><span style='color:red'>○</span></td></tr>\n",
       "        <tr>\n",
       "        <td style='text-align:left'>Google</td>\n",
       "        <td style='text-align:left'>Sycamore</td>\n",
       "        <td style='text-align:left'><code>google_sycamore</code></td>\n",
       "        <td><span style='color:red'>○</span></td></tr>\n",
       "        <tr>\n",
       "        <td style='text-align:left'>Google</td>\n",
       "        <td style='text-align:left'>Sycamore23</td>\n",
       "        <td style='text-align:left'><code>google_sycamore23</code></td>\n",
       "        <td><span style='color:red'>○</span></td></tr>\n",
       "        <tr>\n",
       "        <td style='text-align:left'>IBM</td>\n",
       "        <td style='text-align:left'>Aer Default Simulator</td>\n",
       "        <td style='text-align:left'><code>ibm_aer_default_sim</code></td>\n",
       "        <td><span style='color:green'>●</span></td></tr>\n",
       "        <tr>\n",
       "        <td style='text-align:left'>IBM</td>\n",
       "        <td style='text-align:left'>Aer Pulse Simulator</td>\n",
       "        <td style='text-align:left'><code>ibm_aer_pulse_sim</code></td>\n",
       "        <td><span style='color:green'>●</span></td></tr>\n",
       "        <tr>\n",
       "        <td style='text-align:left'>IBM</td>\n",
       "        <td style='text-align:left'>Aer QASM Simulator</td>\n",
       "        <td style='text-align:left'><code>ibm_aer_qasm_sim</code></td>\n",
       "        <td><span style='color:green'>●</span></td></tr>\n",
       "        <tr>\n",
       "        <td style='text-align:left'>IBM</td>\n",
       "        <td style='text-align:left'>Aer State Vector Simulator</td>\n",
       "        <td style='text-align:left'><code>ibm_aer_sv_sim</code></td>\n",
       "        <td><span style='color:green'>●</span></td></tr>\n",
       "        <tr>\n",
       "        <td style='text-align:left'>IBM</td>\n",
       "        <td style='text-align:left'>Aer Unitary Simulator</td>\n",
       "        <td style='text-align:left'><code>ibm_aer_unitary_sim</code></td>\n",
       "        <td><span style='color:green'>●</span></td></tr>\n",
       "        <tr>\n",
       "        <td style='text-align:left'>IBM</td>\n",
       "        <td style='text-align:left'>BasicAer QASM Simulator</td>\n",
       "        <td style='text-align:left'><code>ibm_basicaer_qasm_sim</code></td>\n",
       "        <td><span style='color:green'>●</span></td></tr>\n",
       "        <tr>\n",
       "        <td style='text-align:left'>IBM</td>\n",
       "        <td style='text-align:left'>BasicAer State Vector Simulator</td>\n",
       "        <td style='text-align:left'><code>ibm_basicaer_sv_sim</code></td>\n",
       "        <td><span style='color:green'>●</span></td></tr>\n",
       "        <tr>\n",
       "        <td style='text-align:left'>IBM</td>\n",
       "        <td style='text-align:left'>BasicAer Unitary Simulator</td>\n",
       "        <td style='text-align:left'><code>ibm_basicaer_unitary_sim</code></td>\n",
       "        <td><span style='color:green'>●</span></td></tr>\n",
       "        <tr>\n",
       "        <td style='text-align:left'>IBM</td>\n",
       "        <td style='text-align:left'>IBMQ Belem</td>\n",
       "        <td style='text-align:left'><code>ibm_q_belem</code></td>\n",
       "        <td><span style='color:green'>●</span></td></tr>\n",
       "        <tr>\n",
       "        <td style='text-align:left'>IBM</td>\n",
       "        <td style='text-align:left'>IBMQ Extended Stabilizer Simulator</td>\n",
       "        <td style='text-align:left'><code>ibm_q_ext_stabilizer_sim</code></td>\n",
       "        <td><span style='color:green'>●</span></td></tr>\n",
       "        <tr>\n",
       "        <td style='text-align:left'>IBM</td>\n",
       "        <td style='text-align:left'>IBMQ Lima</td>\n",
       "        <td style='text-align:left'><code>ibm_q_lima</code></td>\n",
       "        <td><span style='color:green'>●</span></td></tr>\n",
       "        <tr>\n",
       "        <td style='text-align:left'>IBM</td>\n",
       "        <td style='text-align:left'>IBMQ Matrix Product State Simulator</td>\n",
       "        <td style='text-align:left'><code>ibm_q_mps_sim</code></td>\n",
       "        <td><span style='color:green'>●</span></td></tr>\n",
       "        <tr>\n",
       "        <td style='text-align:left'>IBM</td>\n",
       "        <td style='text-align:left'>IBMQ Nairobi</td>\n",
       "        <td style='text-align:left'><code>ibm_q_nairobi</code></td>\n",
       "        <td><span style='color:green'>●</span></td></tr>\n",
       "        <tr>\n",
       "        <td style='text-align:left'>IBM</td>\n",
       "        <td style='text-align:left'>IBMQ Oslo</td>\n",
       "        <td style='text-align:left'><code>ibm_q_oslo</code></td>\n",
       "        <td><span style='color:green'>●</span></td></tr>\n",
       "        <tr>\n",
       "        <td style='text-align:left'>IBM</td>\n",
       "        <td style='text-align:left'>IBMQ QASM Simulator</td>\n",
       "        <td style='text-align:left'><code>ibm_q_qasm_sim</code></td>\n",
       "        <td><span style='color:green'>●</span></td></tr>\n",
       "        <tr>\n",
       "        <td style='text-align:left'>IBM</td>\n",
       "        <td style='text-align:left'>IBMQ Quito</td>\n",
       "        <td style='text-align:left'><code>ibm_q_quito</code></td>\n",
       "        <td><span style='color:green'>●</span></td></tr>\n",
       "        <tr>\n",
       "        <td style='text-align:left'>IBM</td>\n",
       "        <td style='text-align:left'>IBMQ Santiago</td>\n",
       "        <td style='text-align:left'><code>ibm_q_manila</code></td>\n",
       "        <td><span style='color:green'>●</span></td></tr>\n",
       "        <tr>\n",
       "        <td style='text-align:left'>IBM</td>\n",
       "        <td style='text-align:left'>IBMQ Stabilizer Simulator</td>\n",
       "        <td style='text-align:left'><code>ibm_q_stabilizer_sim</code></td>\n",
       "        <td><span style='color:green'>●</span></td></tr>\n",
       "        <tr>\n",
       "        <td style='text-align:left'>IBM</td>\n",
       "        <td style='text-align:left'>IBMQ State Vector Simulator</td>\n",
       "        <td style='text-align:left'><code>ibm_q_sv_sim</code></td>\n",
       "        <td><span style='color:green'>●</span></td></tr>\n",
       "        <tr>\n",
       "        <td style='text-align:left'>IonQ</td>\n",
       "        <td style='text-align:left'>IonQ Device</td>\n",
       "        <td style='text-align:left'><code>aws_ionq</code></td>\n",
       "        <td><span style='color:green'>●</span></td></tr>\n",
       "        <tr>\n",
       "        <td style='text-align:left'>OQC</td>\n",
       "        <td style='text-align:left'>Lucy</td>\n",
       "        <td style='text-align:left'><code>aws_oqc_lucy</code></td>\n",
       "        <td><span style='color:green'>●</span></td></tr>\n",
       "        <tr>\n",
       "        <td style='text-align:left'>Rigetti</td>\n",
       "        <td style='text-align:left'>Aspen-11</td>\n",
       "        <td style='text-align:left'><code>aws_rigetti_aspen_11</code></td>\n",
       "        <td><span style='color:red'>○</span></td></tr>\n",
       "        <tr>\n",
       "        <td style='text-align:left'>Rigetti</td>\n",
       "        <td style='text-align:left'>Aspen-M-1</td>\n",
       "        <td style='text-align:left'><code>aws_rigetti_aspen_m_1</code></td>\n",
       "        <td><span style='color:green'>●</span></td></tr>\n",
       "        <tr>\n",
       "        <td style='text-align:left'>Rigetti</td>\n",
       "        <td style='text-align:left'>Aspen-M-2</td>\n",
       "        <td style='text-align:left'><code>aws_rigetti_aspen_m_2</code></td>\n",
       "        <td><span style='color:green'>●</span></td></tr>\n",
       "        <tr>\n",
       "        <td style='text-align:left'>Xanadu</td>\n",
       "        <td style='text-align:left'>Borealis</td>\n",
       "        <td style='text-align:left'><code>aws_xanadu_borealis</code></td>\n",
       "        <td><span style='color:green'>●</span></td></tr>\n",
       "        <tr><td colspan='4'; style='text-align:right'>Device status updated 3 hours ago</td></tr></table>"
      ],
      "text/plain": [
       "<IPython.core.display.HTML object>"
      ]
     },
     "metadata": {},
     "output_type": "display_data"
    }
   ],
   "source": [
    "get_devices()"
   ]
  },
  {
   "cell_type": "markdown",
   "id": "ffacea0b-d779-4ae9-8985-b295086f0243",
   "metadata": {},
   "source": [
    "Don't forget to add your IBMQ Key"
   ]
  },
  {
   "cell_type": "code",
   "execution_count": 6,
   "id": "d030ba80-037e-4e38-b36c-be650ceeb83b",
   "metadata": {},
   "outputs": [
    {
     "name": "stderr",
     "output_type": "stream",
     "text": [
      "configrc.store_credentials:WARNING:2022-10-22 20:08:33,741: Credentials already present. Set overwrite=True to overwrite.\n"
     ]
    }
   ],
   "source": [
    "IBMQ.save_account('40ddcc5775f97a95f4753f0bf67cb75c48f49e1daa2f98f1d82c8a594bbce0d52535caabc9af4454049709376de81e64eced000282fb6228766a5d56efa186e6')"
   ]
  },
  {
   "cell_type": "code",
   "execution_count": 7,
   "id": "ddfdfe7d-ad42-41d8-b41a-822475d194e9",
   "metadata": {},
   "outputs": [],
   "source": [
    "from qbraid import device_wrapper, job_wrapper, get_jobs\n",
    "from qbraid.api import ibmq_least_busy_qpu, verify_config"
   ]
  },
  {
   "cell_type": "markdown",
   "id": "d0fefcca-f2b0-44dc-9d26-98be8ddf10d4",
   "metadata": {},
   "source": [
    "### A simple circuit"
   ]
  },
  {
   "cell_type": "code",
   "execution_count": 8,
   "id": "9f54d7ef-2a8d-45f8-be0f-ed1b61d16d38",
   "metadata": {},
   "outputs": [
    {
     "data": {
      "text/html": [
       "<pre style=\"word-wrap: normal;white-space: pre;background: #fff0;line-height: 1.1;font-family: &quot;Courier New&quot;,Courier,monospace\">     ┌───┐┌─────────┐┌─────────┐┌─┐\n",
       "  q: ┤ H ├┤ Ry(π/4) ├┤ Rz(π/2) ├┤M├\n",
       "     └───┘└─────────┘└─────────┘└╥┘\n",
       "c: 1/════════════════════════════╩═\n",
       "                                 0 </pre>"
      ],
      "text/plain": [
       "     ┌───┐┌─────────┐┌─────────┐┌─┐\n",
       "  q: ┤ H ├┤ Ry(π/4) ├┤ Rz(π/2) ├┤M├\n",
       "     └───┘└─────────┘└─────────┘└╥┘\n",
       "c: 1/════════════════════════════╩═\n",
       "                                 0 "
      ]
     },
     "execution_count": 8,
     "metadata": {},
     "output_type": "execute_result"
    }
   ],
   "source": [
    "from qiskit import QuantumCircuit\n",
    "import numpy as np\n",
    "\n",
    "qiskit_circuit = QuantumCircuit(1, 1)\n",
    "\n",
    "qiskit_circuit.h(0)\n",
    "qiskit_circuit.ry(np.pi / 4, 0)\n",
    "qiskit_circuit.rz(np.pi / 2, 0)\n",
    "qiskit_circuit.measure(0, 0)\n",
    "\n",
    "qiskit_circuit.draw()"
   ]
  },
  {
   "cell_type": "markdown",
   "id": "c90b77fe-f8ca-49a5-8641-e5db093d43a8",
   "metadata": {},
   "source": [
    "#### Specify devices\n",
    "We will specfiy which device we want to run in this case we will run the qiskit circuit on aws and google."
   ]
  },
  {
   "cell_type": "code",
   "execution_count": 9,
   "id": "bbd4c744-62c5-48eb-b580-4427dc3946d2",
   "metadata": {},
   "outputs": [
    {
     "name": "stdout",
     "output_type": "stream",
     "text": [
      "S3 Bucket [None]: "
     ]
    },
    {
     "name": "stdin",
     "output_type": "stream",
     "text": [
      " Bla bla bla\n"
     ]
    },
    {
     "name": "stdout",
     "output_type": "stream",
     "text": [
      "S3 Bucket Folder [None]: "
     ]
    },
    {
     "name": "stdin",
     "output_type": "stream",
     "text": [
      " bla bla part2\n"
     ]
    }
   ],
   "source": [
    "shots=200\n",
    "google_id = \"google_cirq_dm_sim\"\n",
    "qbraid_google_device = device_wrapper(google_id)\n",
    "\n",
    "aws_id = \"aws_dm_sim\"\n",
    "qbraid_aws_device = device_wrapper(aws_id)  # Credential handled by qBraid Quantum Jobs"
   ]
  },
  {
   "cell_type": "markdown",
   "id": "e9f67211-81da-4a48-b560-140ba213dc80",
   "metadata": {},
   "source": [
    "Let's run the circuit!!!"
   ]
  },
  {
   "cell_type": "code",
   "execution_count": 10,
   "id": "4ad4e339-4f26-45e1-a36a-73f13865a05e",
   "metadata": {},
   "outputs": [],
   "source": [
    "qbraid_google_job = qbraid_google_device.run(qiskit_circuit, shots=shots)\n",
    "qbraid_aws_job = qbraid_aws_device.run(qiskit_circuit, shots=shots)"
   ]
  },
  {
   "cell_type": "markdown",
   "id": "f0cdd092-5036-4a2b-b209-a25756861f5f",
   "metadata": {},
   "source": [
    "#### Monitor and manage your jobs from one location"
   ]
  },
  {
   "cell_type": "code",
   "execution_count": 11,
   "id": "586a1bcb-305e-40f7-9d3b-99bd2fb4ea22",
   "metadata": {},
   "outputs": [
    {
     "data": {
      "text/html": [
       "<h3>Quantum Jobs</h3><table><tr>\n",
       "    <th style='text-align:left'>qBraid ID</th>\n",
       "    <th style='text-align:left'>Submitted</th>\n",
       "    <th style='text-align:left'>Status</th></tr>\n",
       "    <tr>\n",
       "        <td style='text-align:left'>aws_dm_sim-jn_merrouchi-qjob-s50izur056yx8od6p77g</td>\n",
       "        <td style='text-align:left'>2022-10-22T20:11:55.467Z</td>\n",
       "        <td style='text-align:left'><span style='color:green'>COMPLETED</span></td></tr>\n",
       "        <tr>\n",
       "        <td style='text-align:left'>aws_dm_sim-jn_merrouchi-qjob-bq6499c1xe5zl6wsl55e</td>\n",
       "        <td style='text-align:left'>2022-10-22T20:11:51.226Z</td>\n",
       "        <td style='text-align:left'><span style='color:green'>COMPLETED</span></td></tr>\n",
       "        <tr><td colspan='4'; style='text-align:right'>Displaying 2/2 jobs matching query</td></tr></table>"
      ],
      "text/plain": [
       "<IPython.core.display.HTML object>"
      ]
     },
     "metadata": {},
     "output_type": "display_data"
    }
   ],
   "source": [
    "get_jobs()"
   ]
  },
  {
   "cell_type": "code",
   "execution_count": 12,
   "id": "805ac394-c671-4426-b4bb-6193eadc97fe",
   "metadata": {},
   "outputs": [],
   "source": [
    "jobs = [qbraid_google_job, qbraid_aws_job]\n",
    "google_result, aws_result = [job.result() for job in jobs]"
   ]
  },
  {
   "cell_type": "markdown",
   "id": "1f8f1157-31a5-417d-b802-5d16810557a9",
   "metadata": {},
   "source": [
    "##### Get results"
   ]
  },
  {
   "cell_type": "code",
   "execution_count": 13,
   "id": "e88c26ad-3697-49cf-a73e-6cdbaf2f1d76",
   "metadata": {},
   "outputs": [
    {
     "name": "stdout",
     "output_type": "stream",
     "text": [
      "Cirq Density Matrix Simulator counts: {'1': 171, '0': 29}\n",
      "Density Matrix Simulator counts: {'1': 169, '0': 31}\n"
     ]
    }
   ],
   "source": [
    "print(f\"{qbraid_google_device.name} counts: {google_result.measurement_counts()}\")\n",
    "print(f\"{qbraid_aws_device.name} counts: {aws_result.measurement_counts()}\")"
   ]
  },
  {
   "cell_type": "code",
   "execution_count": 14,
   "id": "717b525c-ed8b-4bf9-9240-dbc944c62969",
   "metadata": {},
   "outputs": [
    {
     "data": {
      "image/png": "[encoded data removed]",
      "text/plain": [
       "<Figure size 700x500 with 1 Axes>"
      ]
     },
     "execution_count": 14,
     "metadata": {},
     "output_type": "execute_result"
    }
   ],
   "source": [
    "google_result.plot_counts()"
   ]
  },
  {
   "cell_type": "code",
   "execution_count": 15,
   "id": "861c4186-e72e-455e-a4cc-1a031acdc084",
   "metadata": {},
   "outputs": [
    {
     "data": {
      "image/png": "[encoded data removed]",
      "text/plain": [
       "<Figure size 700x500 with 1 Axes>"
      ]
     },
     "execution_count": 15,
     "metadata": {},
     "output_type": "execute_result"
    }
   ],
   "source": [
    "aws_result.plot_counts()"
   ]
  },
  {
   "cell_type": "markdown",
   "id": "422042c7-85c8-4c2e-a702-8af3c942f44d",
   "metadata": {},
   "source": [
    "<h1 style=\"color:#9A11DA;\"> Our submission (Souaad & Nesrine) </h1>"
   ]
  },
  {
   "cell_type": "markdown",
   "id": "8dea768b-ab93-4af0-a194-46be1a497325",
   "metadata": {},
   "source": [
    "<h2> Description of the game </h2>\n",
    "For this challenge, we wanted to apply the concepts we learned during today's Fest."
   ]
  },
  {
   "cell_type": "markdown",
   "id": "0918093a-2672-4f71-8f2f-b43d416031b3",
   "metadata": {},
   "source": [
    "The idea of the game was inspired by one of the examples given by our workshop mentor, \n",
    "where a coin getting flipped represents the superposition state of a qubit until it gets on one side (head or tale) and that's the defined state of the qubit (0 or 1)"
   ]
  },
  {
   "cell_type": "code",
   "execution_count": null,
   "id": "228cea12-bc81-42dd-9a10-0d326380d2f0",
   "metadata": {},
   "outputs": [],
   "source": [
    "Although this idea seems to have been explored before, we tried our best to implement it using the most basic quantum circuit."
   ]
  },
  {
   "cell_type": "markdown",
   "id": "621d0fef-54eb-485e-9789-8b0513b105cf",
   "metadata": {},
   "source": [
    "The game goes as follows : \n",
    "\n",
    "\n",
    "    - Given that the coin is in a particular state, and both players can't see it (suppose it's inside a box for example).    \n",
    "    - Player A comes and makes a move (flip or keep), player B doesn't know what was chosen.\n",
    "    - Player B comes and makes a move (flip or keep), player A doesn't know what was chosen.\n",
    "    - Player A comes and makes a move (flip or keep), player B doesn't know what was chosen.\n",
    "    - If the coin is head up, player A wins, else player B wins.\n",
    "    "
   ]
  },
  {
   "cell_type": "code",
   "execution_count": 39,
   "id": "a7275878-6d4b-4e5f-a1a8-7a815cad642c",
   "metadata": {},
   "outputs": [],
   "source": [
    "## Imports that we need\n",
    "# Circuits and registers\n",
    "from qiskit import ClassicalRegister, QuantumRegister, QuantumCircuit\n",
    "# execute function, and the python based quantum simulators\n",
    "from qiskit import execute, BasicAer\n",
    "# UI controls for interactivity\n",
    "from ipywidgets import interact"
   ]
  },
  {
   "cell_type": "markdown",
   "id": "a96f0031-73ca-4da0-9f8d-65899af3f025",
   "metadata": {},
   "source": [
    "We define our functions for the game"
   ]
  },
  {
   "cell_type": "code",
   "execution_count": 40,
   "id": "cde4855b-0d4a-4d8d-8106-301abddb7189",
   "metadata": {},
   "outputs": [],
   "source": [
    "# When A makes their first move\n",
    "def MoveA1(move): global moveA1; moveA1 = move;\n",
    "# When B makes their first move\n",
    "def MoveB1(move): global moveB1; moveB1 = move;\n",
    "# When A makes their second move\n",
    "def MoveA2(move): global moveA2; moveA2 = move;"
   ]
  },
  {
   "cell_type": "markdown",
   "id": "43dee004-d978-4fb3-b603-dbc75b3a725d",
   "metadata": {},
   "source": [
    "The main function which is : winner()"
   ]
  },
  {
   "cell_type": "code",
   "execution_count": 41,
   "id": "0b936126-0c48-482f-8f97-09ef76ad8e49",
   "metadata": {},
   "outputs": [],
   "source": [
    "def winner(counts) :\n",
    "    print(counts)\n",
    "    if len(counts) == 1 :\n",
    "        print('Congratulations to ')\n",
    "        if (\"0\" in counts) :\n",
    "            print('A')\n",
    "        else :\n",
    "            print('B')\n",
    "    else :\n",
    "        count0 = counts[\"0\"]\n",
    "        count1 = counts[\"1\"]\n",
    "        print('Superposition !!')\n",
    "        print('Probability of A winning is :', '%.1f%%' % (100.*count0/(count0+count1)))\n",
    "        print('Probability of B winning is :', '%.1f%%' % (100.*count1/(count0+count1)))\n",
    "        return()\n",
    "        "
   ]
  },
  {
   "cell_type": "markdown",
   "id": "48787a8f-3970-4370-ad28-f8cc56cf3307",
   "metadata": {},
   "source": [
    "<h2> Time to play </h2>"
   ]
  },
  {
   "cell_type": "markdown",
   "id": "4a297096-d568-4293-9fb4-542528dce4b3",
   "metadata": {},
   "source": [
    "<h3> Player A makes a move </h3>"
   ]
  },
  {
   "cell_type": "code",
   "execution_count": 42,
   "id": "88bb5e2d-2452-4862-8e96-1689876711da",
   "metadata": {},
   "outputs": [
    {
     "data": {
      "application/vnd.jupyter.widget-view+json": {
       "model_id": "0388c4ceed704293b5fe1039ca776304",
       "version_major": 2,
       "version_minor": 0
      },
      "text/plain": [
       "interactive(children=(Dropdown(description='move', options={'keep it': 0, 'flip it': 1}, value=0), Output()), …"
      ]
     },
     "metadata": {},
     "output_type": "display_data"
    }
   ],
   "source": [
    "interact(MoveA1, move={'keep it': 0, 'flip it': 1});"
   ]
  },
  {
   "cell_type": "markdown",
   "id": "fd493955-0dce-40c6-af78-ffe85e85bdbd",
   "metadata": {},
   "source": [
    "<h3>Player B makes a move</h3>"
   ]
  },
  {
   "cell_type": "code",
   "execution_count": 43,
   "id": "cec391ff-1f7e-496d-bd3a-0ff914c96b3c",
   "metadata": {},
   "outputs": [
    {
     "data": {
      "application/vnd.jupyter.widget-view+json": {
       "model_id": "c8f5a67eeb374cb3bffecee3f0ad1c38",
       "version_major": 2,
       "version_minor": 0
      },
      "text/plain": [
       "interactive(children=(Dropdown(description='move', options={'keep it': 0, 'flip it': 1}, value=0), Output()), …"
      ]
     },
     "metadata": {},
     "output_type": "display_data"
    }
   ],
   "source": [
    "interact(MoveB1, move={'keep it': 0, 'flip it': 1});"
   ]
  },
  {
   "cell_type": "markdown",
   "id": "01c30383-f866-4017-9059-f46e97fdd67f",
   "metadata": {},
   "source": [
    "<h3>Player A makes a move again</h3>"
   ]
  },
  {
   "cell_type": "code",
   "execution_count": 44,
   "id": "497b0169-79e1-4379-b885-394ac3c84399",
   "metadata": {},
   "outputs": [
    {
     "data": {
      "application/vnd.jupyter.widget-view+json": {
       "model_id": "82bea7e3c11747d4a2491f9ab45a90ad",
       "version_major": 2,
       "version_minor": 0
      },
      "text/plain": [
       "interactive(children=(Dropdown(description='move', options={'keep it': 0, 'flip it': 1}, value=0), Output()), …"
      ]
     },
     "metadata": {},
     "output_type": "display_data"
    }
   ],
   "source": [
    "interact(MoveA2, move={'keep it': 0, 'flip it': 1});"
   ]
  },
  {
   "cell_type": "markdown",
   "id": "b413eb5c-e17e-42bb-9ade-1a7e32e91e6e",
   "metadata": {},
   "source": [
    "Just to check what happened, we'll print the three moves (0 means keeping the coin as it is, 1 means flipping the coin)"
   ]
  },
  {
   "cell_type": "code",
   "execution_count": 45,
   "id": "ffd3d47f-4529-497d-8869-a6ebc7c3ae8f",
   "metadata": {},
   "outputs": [
    {
     "name": "stdout",
     "output_type": "stream",
     "text": [
      "0 0 0\n"
     ]
    }
   ],
   "source": [
    "print(moveA1, moveB1, moveA2)"
   ]
  },
  {
   "cell_type": "markdown",
   "id": "adae62f0-de5f-4137-b4d2-6122cea26828",
   "metadata": {},
   "source": [
    "Now for the Quantum magic !"
   ]
  },
  {
   "cell_type": "code",
   "execution_count": 46,
   "id": "715fe589-5a73-409d-b346-68f14a091c9d",
   "metadata": {},
   "outputs": [
    {
     "data": {
      "text/plain": [
       "<qiskit.circuit.instructionset.InstructionSet at 0x7f345b9b4cd0>"
      ]
     },
     "execution_count": 46,
     "metadata": {},
     "output_type": "execute_result"
    }
   ],
   "source": [
    "# Create a quantum register of one qubit\n",
    "q = QuantumRegister(1)\n",
    "\n",
    "# Create a classical register of one qubit\n",
    "c = ClassicalRegister(1)\n",
    "\n",
    "# Create a quantum circuit of the two registers\n",
    "qc = QuantumCircuit(q, c)\n",
    "\n",
    "# Define our backend (the qasm simulator that we used in today's workshop)\n",
    "backend = BasicAer.get_backend('qasm_simulator')\n",
    "\n",
    "# Call our game functions (the players' game)\n",
    "qc.id(q[0]) if (moveA1 == 0) else qc.x(q[0])\n",
    "qc.id(q[0]) if (moveB1 == 0) else qc.x(q[0])\n",
    "qc.id(q[0]) if (moveA2 == 0) else qc.x(q[0])\n",
    "\n",
    "# Measure our qubits\n",
    "qc.measure(q, c)"
   ]
  },
  {
   "cell_type": "code",
   "execution_count": 47,
   "id": "39995043-df76-4339-830a-bcc5fb969e27",
   "metadata": {},
   "outputs": [
    {
     "name": "stdout",
     "output_type": "stream",
     "text": [
      "{'0': 20}\n",
      "Congratulations to \n",
      "A\n"
     ]
    }
   ],
   "source": [
    "# Define a job and execute it in the defined backend\n",
    "job = execute(qc, backend, shots=20)\n",
    "\n",
    "result = job.result()\n",
    "\n",
    "counts = result.get_counts(qc)\n",
    "\n",
    "# Congratulate the winner :)\n",
    "winner(counts)"
   ]
  },
  {
   "cell_type": "code",
   "execution_count": 48,
   "id": "b3d1f6c3-83f4-4a87-9fa7-1d926f05e4e3",
   "metadata": {},
   "outputs": [
    {
     "name": "stdout",
     "output_type": "stream",
     "text": [
      "Thank you for playing\n"
     ]
    }
   ],
   "source": [
    "print(\"Thank you for playing\")"
   ]
  },
  {
   "cell_type": "code",
   "execution_count": null,
   "id": "7759cc95-d0a5-49cc-a95b-b12de65f8eae",
   "metadata": {},
   "outputs": [],
   "source": []
  }
 ],
 "metadata": {
  "kernelspec": {
   "display_name": "Python 3 [qBraid-SDK]",
   "language": "python",
   "name": "python3_qbraid_sdk_9j9sjy"
  },
  "language_info": {
   "codemirror_mode": {
    "name": "ipython",
    "version": 3
   },
   "file_extension": ".py",
   "mimetype": "text/x-python",
   "name": "python",
   "nbconvert_exporter": "python",
   "pygments_lexer": "ipython3",
   "version": "3.9.10"
  }
 },
 "nbformat": 4,
 "nbformat_minor": 5
}
