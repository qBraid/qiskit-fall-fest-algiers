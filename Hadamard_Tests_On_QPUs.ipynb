{
 "cells": [
  {
   "cell_type": "markdown",
   "id": "d912ae07-6dda-4f8a-b84a-0a4d54ef92fb",
   "metadata": {},
   "source": [
    "<h1 style=\"color:#9A11DA;\"> What is a Hadamard Test?</h1> \n",
    "The Hadamard Test allows for estimating the measurment $\\langle \\psi | U | \\psi \\rangle$ for a unitary operation $U$ and a quantum state $|\\psi \\rangle$. In this challenge you'll be working on creating the Hadamard Test for measuring both real and imaginary values on various quantum computers. \n",
    "\n",
    "Here's some documentation for you to get started:\n",
    "\n",
    "[Wikipedia](https://en.wikipedia.org/wiki/Hadamard_test_(quantum_computation))\n",
    "\n",
    "[Victoroy Omole's Blog on QPE and Hadamard Test](https://vtomole.com/blog/2018/05/20/pea)\n"
   ]
  },
  {
   "cell_type": "markdown",
   "id": "5899ada3-b2a9-4caf-a452-af0ae617e994",
   "metadata": {
    "jp-MarkdownHeadingCollapsed": true,
    "tags": []
   },
   "source": [
    "<h2 style=\"color:#9A11DA;\">qBraid SDK</h2> \n",
    "\n",
    "qBraid-SDK is our tool to braid various quantum SDKs into one cohesive experience. With qBraid-SDK, you can develop quantum circuits and run them on quantum computers available from, IBM, Rigetti, OQC, and IonQ. You are also welcome to develop your quantum circuits in the language of your choice (qiskit, cirq, braket, or qasm) and specify the quantum device you want to run them, and qBraid-SDK will run the circuits and get you the results. qBraid-SDK includes a transpiler which allows it to convert the circuits between various languages. You can also use the transpiler for your quantum code. The SDK also has many auxiliary features that allow you to keep track of your quantum jobs and find out the status of various quantum computers. \n",
    "Learn more about the qBraid-SDK at https://qbraid-qbraid.readthedocs-hosted.com/en/latest/sdk/overview.html"
   ]
  },
  {
   "cell_type": "markdown",
   "id": "ea514a0e-d4b9-4769-bb27-b00c9d3fd10e",
   "metadata": {
    "jp-MarkdownHeadingCollapsed": true,
    "tags": []
   },
   "source": [
    "<h2 style=\"color:#9A11DA;\">Getting Started </h2>\n",
    "\n",
    "### Add permissions and credits\n",
    "1. Make sure you have added the code `QISKITFALL22` on your [account](https://account.qbraid.com/account-details)  in the **Add an access key** section.  If you already have already done this step move onto step 4.\n",
    "\n",
    "<img align=\"center\" width='350px' src='./images/account_details.png'>\n",
    "2. You should receive a message like this:\n",
    "\n",
    "<img align=\"center\" width='350px' src='./images/confirmed.png'>\n",
    "3. Reload this page!\n",
    "\n",
    "## Activate the qBraid SDK environment\n",
    "4. On the top right you should see the `ENVS` button. Click it!\n",
    "5. Click the +ADD button and open the drop down arrow \n",
    "\n",
    "<img align=\"center\"  width='100px' src='./images/add.png'>\n",
    "6. Install the qBraid SDK! It will take a few minutes.\n",
    "\n",
    "<img align=\"center\"  width='200px' src='./images/qbraid_sdk.png'>\n",
    "7. Activate the environment\n",
    "\n",
    "<img align=\"center\"  width='200px' src='./images/activate.png'>\n",
    "\n",
    "8. Activate the kernel\n",
    "\n",
    "<img align=\"center\"  width='200px' src='./images/kernel.png'>\n",
    "\n"
   ]
  },
  {
   "cell_type": "markdown",
   "id": "1351ca03-9c9d-482a-aead-16c0d29257fd",
   "metadata": {},
   "source": [
    "## You're all ready to go!\n",
    "By running the cell below you will be able to run quantum jobs on qBraid. Learn more about the qBraid SDK [here](https://qbraid-qbraid.readthedocs-hosted.com/en/stable/sdk/overview.html)\n",
    "\n",
    "### How to win\n",
    "**Creativity is key here.** Try to learn about what our SDK is capable and the various applications of the hadmard test. Some ideas can be to use the two functions to make a game, extend it in the likes of the Aharonov-Jones-Landau algorithm, computing inner products and more. \n",
    "\n",
    "**Run on multiple simulators and devices using the qBraid SDK's transpiling and job submitting functionality is also key!**\n",
    "\n",
    "**Write clean documentation and code** Clean code will help judges discern who understands the material and can conscisely explain it to others.\n",
    "\n",
    "**Provide installation instructions** If there are any additional installation/getting started steps please mention them!"
   ]
  },
  {
   "cell_type": "code",
   "execution_count": 1,
   "id": "3d7ae6f3-acd6-4666-913e-96f7cabefd8b",
   "metadata": {},
   "outputs": [
    {
     "name": "stdout",
     "output_type": "stream",
     "text": [
      "\u001b[0;35mYou have already enabled qBraid Quantum Jobs in the qbraid_sdk environment.\u001b[0m\n"
     ]
    }
   ],
   "source": [
    "! qbraid jobs enable qbraid_sdk"
   ]
  },
  {
   "cell_type": "markdown",
   "id": "f138bea2-6c86-4e3c-89a2-3bab21980fe6",
   "metadata": {},
   "source": [
    "### Importing and Installing Qiskit"
   ]
  },
  {
   "cell_type": "code",
   "execution_count": 2,
   "id": "2f4792a3-2b7b-442b-bd42-bbfe4e1e8950",
   "metadata": {},
   "outputs": [
    {
     "name": "stdout",
     "output_type": "stream",
     "text": [
      "Collecting qiskit\n",
      "  Downloading qiskit-0.39.0.tar.gz (13 kB)\n",
      "  Preparing metadata (setup.py) ... \u001b[?25ldone\n",
      "\u001b[?25hCollecting qiskit-terra==0.22.0\n",
      "  Downloading qiskit_terra-0.22.0-cp39-cp39-manylinux_2_17_x86_64.manylinux2014_x86_64.whl (4.7 MB)\n",
      "\u001b[2K     \u001b[90m━━━━━━━━━━━━━━━━━━━━━━━━━━━━━━━━━━━━━━━━\u001b[0m \u001b[32m4.7/4.7 MB\u001b[0m \u001b[31m31.1 MB/s\u001b[0m eta \u001b[36m0:00:00\u001b[0m:00:01\u001b[0m\n",
      "\u001b[?25hCollecting qiskit-aer==0.11.0\n",
      "  Downloading qiskit_aer-0.11.0-cp39-cp39-manylinux_2_17_x86_64.manylinux2014_x86_64.whl (19.2 MB)\n",
      "\u001b[2K     \u001b[90m━━━━━━━━━━━━━━━━━━━━━━━━━━━━━━━━━━━━━━━━\u001b[0m \u001b[32m19.2/19.2 MB\u001b[0m \u001b[31m39.9 MB/s\u001b[0m eta \u001b[36m0:00:00\u001b[0m00:01\u001b[0m00:01\u001b[0m\n",
      "\u001b[?25hCollecting qiskit-ibmq-provider==0.19.2\n",
      "  Downloading qiskit_ibmq_provider-0.19.2-py3-none-any.whl (240 kB)\n",
      "\u001b[2K     \u001b[90m━━━━━━━━━━━━━━━━━━━━━━━━━━━━━━━━━━━━━━━\u001b[0m \u001b[32m240.4/240.4 kB\u001b[0m \u001b[31m3.2 MB/s\u001b[0m eta \u001b[36m0:00:00\u001b[0m00:01\u001b[0m\n",
      "\u001b[?25hRequirement already satisfied: numpy>=1.16.3 in /opt/conda/lib/python3.9/site-packages (from qiskit-aer==0.11.0->qiskit) (1.23.4)\n",
      "Requirement already satisfied: scipy>=1.0 in /opt/conda/lib/python3.9/site-packages (from qiskit-aer==0.11.0->qiskit) (1.9.2)\n",
      "Requirement already satisfied: urllib3>=1.21.1 in /opt/conda/lib/python3.9/site-packages (from qiskit-ibmq-provider==0.19.2->qiskit) (1.26.8)\n",
      "Requirement already satisfied: requests>=2.19 in /opt/conda/lib/python3.9/site-packages (from qiskit-ibmq-provider==0.19.2->qiskit) (2.27.1)\n",
      "Requirement already satisfied: python-dateutil>=2.8.0 in /opt/conda/lib/python3.9/site-packages (from qiskit-ibmq-provider==0.19.2->qiskit) (2.8.2)\n",
      "Requirement already satisfied: websocket-client>=1.0.1 in /opt/conda/lib/python3.9/site-packages (from qiskit-ibmq-provider==0.19.2->qiskit) (1.3.1)\n",
      "Collecting requests-ntlm>=1.1.0\n",
      "  Downloading requests_ntlm-1.1.0-py2.py3-none-any.whl (5.7 kB)\n",
      "Collecting websockets>=10.0\n",
      "  Downloading websockets-10.3-cp39-cp39-manylinux_2_5_x86_64.manylinux1_x86_64.manylinux_2_12_x86_64.manylinux2010_x86_64.whl (111 kB)\n",
      "\u001b[2K     \u001b[90m━━━━━━━━━━━━━━━━━━━━━━━━━━━━━━━━━━━━━━━\u001b[0m \u001b[32m111.3/111.3 kB\u001b[0m \u001b[31m2.1 MB/s\u001b[0m eta \u001b[36m0:00:00\u001b[0ma \u001b[36m0:00:01\u001b[0m\n",
      "\u001b[?25hCollecting stevedore>=3.0.0\n",
      "  Downloading stevedore-4.1.0-py3-none-any.whl (50 kB)\n",
      "\u001b[2K     \u001b[90m━━━━━━━━━━━━━━━━━━━━━━━━━━━━━━━━━━━━━━━\u001b[0m \u001b[32m50.0/50.0 kB\u001b[0m \u001b[31m940.9 kB/s\u001b[0m eta \u001b[36m0:00:00\u001b[0ma \u001b[36m0:00:01\u001b[0m\n",
      "\u001b[?25hRequirement already satisfied: psutil>=5 in /opt/conda/lib/python3.9/site-packages (from qiskit-terra==0.22.0->qiskit) (5.9.0)\n",
      "Collecting tweedledum<2.0,>=1.1\n",
      "  Downloading tweedledum-1.1.1-cp39-cp39-manylinux_2_12_x86_64.manylinux2010_x86_64.whl (930 kB)\n",
      "\u001b[2K     \u001b[90m━━━━━━━━━━━━━━━━━━━━━━━━━━━━━━━━━━━━━━\u001b[0m \u001b[32m930.4/930.4 kB\u001b[0m \u001b[31m11.6 MB/s\u001b[0m eta \u001b[36m0:00:00\u001b[0m00:01\u001b[0m\n",
      "\u001b[?25hCollecting ply>=3.10\n",
      "  Downloading ply-3.11-py2.py3-none-any.whl (49 kB)\n",
      "\u001b[2K     \u001b[90m━━━━━━━━━━━━━━━━━━━━━━━━━━━━━━━━━━━━━━━\u001b[0m \u001b[32m49.6/49.6 kB\u001b[0m \u001b[31m934.8 kB/s\u001b[0m eta \u001b[36m0:00:00\u001b[0ma \u001b[36m0:00:01\u001b[0m\n",
      "\u001b[?25hCollecting sympy>=1.3\n",
      "  Downloading sympy-1.11.1-py3-none-any.whl (6.5 MB)\n",
      "\u001b[2K     \u001b[90m━━━━━━━━━━━━━━━━━━━━━━━━━━━━━━━━━━━━━━━━\u001b[0m \u001b[32m6.5/6.5 MB\u001b[0m \u001b[31m37.7 MB/s\u001b[0m eta \u001b[36m0:00:00\u001b[0m:00:01\u001b[0m\n",
      "\u001b[?25hCollecting symengine>=0.9\n",
      "  Downloading symengine-0.9.2-cp39-cp39-manylinux2010_x86_64.whl (37.5 MB)\n",
      "\u001b[2K     \u001b[90m━━━━━━━━━━━━━━━━━━━━━━━━━━━━━━━━━━━━━━━━\u001b[0m \u001b[32m37.5/37.5 MB\u001b[0m \u001b[31m30.7 MB/s\u001b[0m eta \u001b[36m0:00:00\u001b[0m00:01\u001b[0m00:01\u001b[0m\n",
      "\u001b[?25hCollecting retworkx>=0.11.0\n",
      "  Downloading retworkx-0.12.0-py3-none-any.whl (10 kB)\n",
      "Collecting dill>=0.3\n",
      "  Downloading dill-0.3.5.1-py2.py3-none-any.whl (95 kB)\n",
      "\u001b[2K     \u001b[90m━━━━━━━━━━━━━━━━━━━━━━━━━━━━━━━━━━━━━━━━\u001b[0m \u001b[32m95.8/95.8 kB\u001b[0m \u001b[31m1.6 MB/s\u001b[0m eta \u001b[36m0:00:00\u001b[0mta \u001b[36m0:00:01\u001b[0m\n",
      "\u001b[?25hRequirement already satisfied: six>=1.5 in /opt/conda/lib/python3.9/site-packages (from python-dateutil>=2.8.0->qiskit-ibmq-provider==0.19.2->qiskit) (1.16.0)\n",
      "Requirement already satisfied: certifi>=2017.4.17 in /opt/conda/lib/python3.9/site-packages (from requests>=2.19->qiskit-ibmq-provider==0.19.2->qiskit) (2021.10.8)\n",
      "Requirement already satisfied: charset-normalizer~=2.0.0 in /opt/conda/lib/python3.9/site-packages (from requests>=2.19->qiskit-ibmq-provider==0.19.2->qiskit) (2.0.12)\n",
      "Requirement already satisfied: idna<4,>=2.5 in /opt/conda/lib/python3.9/site-packages (from requests>=2.19->qiskit-ibmq-provider==0.19.2->qiskit) (3.3)\n",
      "Collecting ntlm-auth>=1.0.2\n",
      "  Downloading ntlm_auth-1.5.0-py2.py3-none-any.whl (29 kB)\n",
      "Requirement already satisfied: cryptography>=1.3 in /opt/conda/lib/python3.9/site-packages (from requests-ntlm>=1.1.0->qiskit-ibmq-provider==0.19.2->qiskit) (36.0.1)\n",
      "Collecting rustworkx==0.12.0\n",
      "  Downloading rustworkx-0.12.0-cp39-cp39-manylinux_2_17_x86_64.manylinux2014_x86_64.whl (1.9 MB)\n",
      "\u001b[2K     \u001b[90m━━━━━━━━━━━━━━━━━━━━━━━━━━━━━━━━━━━━━━━━\u001b[0m \u001b[32m1.9/1.9 MB\u001b[0m \u001b[31m21.1 MB/s\u001b[0m eta \u001b[36m0:00:00\u001b[0m:00:01\u001b[0m\n",
      "\u001b[?25hCollecting pbr!=2.1.0,>=2.0.0\n",
      "  Downloading pbr-5.11.0-py2.py3-none-any.whl (112 kB)\n",
      "\u001b[2K     \u001b[90m━━━━━━━━━━━━━━━━━━━━━━━━━━━━━━━━━━━━━━━\u001b[0m \u001b[32m112.6/112.6 kB\u001b[0m \u001b[31m2.1 MB/s\u001b[0m eta \u001b[36m0:00:00\u001b[0ma \u001b[36m0:00:01\u001b[0m\n",
      "\u001b[?25hCollecting mpmath>=0.19\n",
      "  Downloading mpmath-1.2.1-py3-none-any.whl (532 kB)\n",
      "\u001b[2K     \u001b[90m━━━━━━━━━━━━━━━━━━━━━━━━━━━━━━━━━━━━━━━\u001b[0m \u001b[32m532.6/532.6 kB\u001b[0m \u001b[31m7.8 MB/s\u001b[0m eta \u001b[36m0:00:00\u001b[0m00:01\u001b[0m\n",
      "\u001b[?25hRequirement already satisfied: cffi>=1.12 in /opt/conda/lib/python3.9/site-packages (from cryptography>=1.3->requests-ntlm>=1.1.0->qiskit-ibmq-provider==0.19.2->qiskit) (1.15.0)\n",
      "Requirement already satisfied: pycparser in /opt/conda/lib/python3.9/site-packages (from cffi>=1.12->cryptography>=1.3->requests-ntlm>=1.1.0->qiskit-ibmq-provider==0.19.2->qiskit) (2.21)\n",
      "Building wheels for collected packages: qiskit\n",
      "  Building wheel for qiskit (setup.py) ... \u001b[?25ldone\n",
      "\u001b[?25h  Created wheel for qiskit: filename=qiskit-0.39.0-py3-none-any.whl size=12188 sha256=cee245a58ef5330b90a31185dbba0f7c9f65ef4273e01a101e38974155164f7a\n",
      "  Stored in directory: /home/jovyan/.cache/pip/wheels/4f/fb/4d/0476e98c2119f97792c406a5227a28ccbab213f360a4c2f48a\n",
      "Successfully built qiskit\n",
      "Installing collected packages: ply, mpmath, websockets, tweedledum, sympy, symengine, rustworkx, pbr, ntlm-auth, dill, stevedore, retworkx, requests-ntlm, qiskit-terra, qiskit-ibmq-provider, qiskit-aer, qiskit\n",
      "Successfully installed dill-0.3.5.1 mpmath-1.2.1 ntlm-auth-1.5.0 pbr-5.11.0 ply-3.11 qiskit-0.39.0 qiskit-aer-0.11.0 qiskit-ibmq-provider-0.19.2 qiskit-terra-0.22.0 requests-ntlm-1.1.0 retworkx-0.12.0 rustworkx-0.12.0 stevedore-4.1.0 symengine-0.9.2 sympy-1.11.1 tweedledum-1.1.1 websockets-10.3\n"
     ]
    }
   ],
   "source": [
    "!pip install qiskit"
   ]
  },
  {
   "cell_type": "code",
   "execution_count": 12,
   "id": "f50be442-6ba1-430c-9f93-c88f20470463",
   "metadata": {},
   "outputs": [],
   "source": [
    "from qiskit import QuantumCircuit, Aer, transpile, assemble\n",
    "from qiskit.visualization import plot_histogram, plot_bloch_multivector\n",
    "from numpy.random import randint\n",
    "import numpy as np\n",
    "import math"
   ]
  },
  {
   "cell_type": "markdown",
   "id": "3314c7b7-0c96-4b81-8eff-394a04c763de",
   "metadata": {},
   "source": [
    "### Hadamard Test Circuit Architecture:\n",
    "The circuit below is an implementation of the Hadamard Test in effect, where q_0 is the control qubit for the operation and q_1 is the bit being operated on, the circuit below actually only shows the Real (Re()) value of the Hadamard test calculation"
   ]
  },
  {
   "cell_type": "code",
   "execution_count": 58,
   "id": "9902c427-ac38-426b-b114-c7f7885a0be9",
   "metadata": {},
   "outputs": [
    {
     "name": "stdout",
     "output_type": "stream",
     "text": [
      "     ┌───┐     ┌───┐┌─┐\n",
      "q_0: ┤ H ├──■──┤ H ├┤M├\n",
      "     └───┘┌─┴─┐└───┘└╥┘\n",
      "q_1: ─────┤ X ├──────╫─\n",
      "          └───┘      ║ \n",
      "c: 1/════════════════╩═\n",
      "                     0 \n",
      "1\n"
     ]
    }
   ],
   "source": [
    "qc=QuantumCircuit(2,1)\n",
    "qc.h(0)  #Apply Hadamard Gate to the first qubit\n",
    "qc.cx(0,1) #Apply Control Unit Operation on the second qubit, in this case the control NOT gate (for the sake of simplicity\n",
    "qc.h(0) #Apply the Hadamard Gate again before output on the first qubit\n",
    "qc.measure(0,0)  #Mesaure the output value of the first Qubit\n",
    "aer_sim = Aer.get_backend('aer_simulator')\n",
    "qobj = assemble(qc, shots=1, memory=True)\n",
    "result = aer_sim.run(qobj).result()\n",
    "measured_bit = int(result.get_memory()[0])\n",
    "measured_bit\n",
    "print(qc) #we draw the circuit\n",
    "print(measured_bit)"
   ]
  },
  {
   "cell_type": "code",
   "execution_count": 18,
   "id": "0fdb4b77-d896-43a9-86ac-ba86ef3e7847",
   "metadata": {},
   "outputs": [],
   "source": [
    "def hadamard_test_real(): ##We copy the code above to create the circuit, the output is only the measured real value\n",
    "    qc=QuantumCircuit(2,1)\n",
    "    qc.h(0)\n",
    "    qc.cx(0,1)\n",
    "    qc.h(0)\n",
    "    qc.measure(0,0)\n",
    "    aer_sim = Aer.get_backend('aer_simulator')\n",
    "    qobj = assemble(qc, shots=1, memory=True)\n",
    "    result = aer_sim.run(qobj).result()\n",
    "    measured_bit = int(result.get_memory()[0])\n",
    "    return measured_bit\n",
    "    "
   ]
  },
  {
   "cell_type": "markdown",
   "id": "f5e37da4-95b5-4ec5-8b56-a20da0fb60e6",
   "metadata": {},
   "source": [
    "Run the cell below to generate random Real states using the Hadamard Test"
   ]
  },
  {
   "cell_type": "code",
   "execution_count": 27,
   "id": "537c16a8-69a3-4568-ba0c-b08a69557759",
   "metadata": {},
   "outputs": [
    {
     "name": "stdout",
     "output_type": "stream",
     "text": [
      "0\n"
     ]
    }
   ],
   "source": [
    "print(hadamard_test_real())"
   ]
  },
  {
   "cell_type": "markdown",
   "id": "bd428501-d103-4848-9c07-562b18fc5735",
   "metadata": {},
   "source": [
    "The circuit below shows the imaginary part of the Hadamard test, the difference here is that before applying the control unit operation, a phase rotation of -pi/2 is needed (-90° to flip from the real to the imaginary axis)"
   ]
  },
  {
   "cell_type": "raw",
   "id": "1b5f4d4d-e0f8-436b-a6d1-a936838f68e4",
   "metadata": {},
   "source": [
    "qc=QuantumCircuit(2,1)\n",
    "qc.h(0)\n",
    "qc.p(-math.pi/2,0)\n",
    "qc.cx(0,1)\n",
    "qc.h(0)\n",
    "qc.measure(0,0)\n",
    "aer_sim = Aer.get_backend('aer_simulator')\n",
    "qobj = assemble(qc, shots=1, memory=True)\n",
    "result = aer_sim.run(qobj).result()\n",
    "measured_bit = int(result.get_memory()[0])\n",
    "measured_bit\n",
    "print(qc)\n",
    "print(measured_bit)"
   ]
  },
  {
   "cell_type": "code",
   "execution_count": 59,
   "id": "c77a65d0-5a2d-4977-81f3-c596e3ac1150",
   "metadata": {},
   "outputs": [],
   "source": [
    "def hadamard_test_imag(): ##We copy the code above to create the circuit, the output is only the measured Imaginary value\n",
    "    qc=QuantumCircuit(2,1)\n",
    "    qc.h(0)\n",
    "    qc.p(-math.pi/2,0)\n",
    "    qc.cx(0,1)\n",
    "    qc.h(0)\n",
    "    qc.measure(0,0)\n",
    "    aer_sim = Aer.get_backend('aer_simulator')\n",
    "    qobj = assemble(qc, shots=1, memory=True)\n",
    "    result = aer_sim.run(qobj).result()\n",
    "    measured_bit = int(result.get_memory()[0])\n",
    "    return measured_bit"
   ]
  },
  {
   "cell_type": "markdown",
   "id": "20b7a2ba-a619-48fa-acf5-58e31783a69d",
   "metadata": {},
   "source": [
    "Run the cell below to generate random imaginary states using the Hadamard Test"
   ]
  },
  {
   "cell_type": "code",
   "execution_count": 60,
   "id": "93404872-aa36-43e1-8321-80c87b9e55a2",
   "metadata": {},
   "outputs": [
    {
     "name": "stdout",
     "output_type": "stream",
     "text": [
      "1\n"
     ]
    }
   ],
   "source": [
    "print(hadamard_test_imag())"
   ]
  },
  {
   "cell_type": "markdown",
   "id": "86f04860-5456-4d83-aaaa-431fad2482a6",
   "metadata": {},
   "source": [
    "The mini game below generates random dice rolls for you and your friend at the same time, and since these rolls are based on quantum state measurements, there is no way to cheat.\n",
    "The first roll is the sum of six different qubit measurements for the Real part of the Hadamard Test meanwhile the second roll is the Imaginary Part of the test, and since they are always different the rolled dice value is absolutely random"
   ]
  },
  {
   "cell_type": "code",
   "execution_count": 56,
   "id": "afd03c19-99c1-4cb7-a40d-83a1a9fe79d3",
   "metadata": {},
   "outputs": [],
   "source": [
    "def roll_the_dice_twice(): \n",
    "    k=0\n",
    "    a=0\n",
    "    b=0\n",
    "    while(k<6):\n",
    "        k=k+1\n",
    "        a=hadamard_test_real()+a\n",
    "        b=hadamard_test_imag()+b\n",
    "    return a,b"
   ]
  },
  {
   "cell_type": "markdown",
   "id": "942d7dfe-4466-4e04-9595-9b73732889b3",
   "metadata": {},
   "source": [
    "Run the cell below to roll a 100% fair dice for you and your friend:"
   ]
  },
  {
   "cell_type": "code",
   "execution_count": 68,
   "id": "f26bd5e5-11c8-4f5e-a4d5-b665ee3ede3f",
   "metadata": {},
   "outputs": [
    {
     "name": "stdout",
     "output_type": "stream",
     "text": [
      "Your Dice Rolled a:  2  And Your Friend Rolled a:  3\n",
      "You WIN!\n"
     ]
    }
   ],
   "source": [
    "a,b=roll_the_dice_twice()\n",
    "print(\"Your Dice Rolled a: \",a,\" And Your Friend Rolled a: \",b)\n",
    "if (a<b):\n",
    "    print(\"You WIN!\")\n",
    "else:\n",
    "    if(a==b):\n",
    "        print(\"It's a TIE!\")\n",
    "    else:\n",
    "        print(\"Your friend WINS!\")\n"
   ]
  },
  {
   "cell_type": "markdown",
   "id": "19163a38-4b1d-490f-82d9-538e0e7fb1f0",
   "metadata": {},
   "source": [
    "### qBraid SDK DEMO: Run on various hardware\n"
   ]
  },
  {
   "cell_type": "code",
   "execution_count": 36,
   "id": "950081ce-169b-4b55-a640-200ec2387999",
   "metadata": {},
   "outputs": [],
   "source": [
    "from qbraid import get_devices"
   ]
  },
  {
   "cell_type": "code",
   "execution_count": 37,
   "id": "bd49db4d-2815-4ce4-ad19-a2ec7bf2ff6e",
   "metadata": {},
   "outputs": [
    {
     "data": {
      "text/html": [
       "<h3>Supported Devices</h3><table><tr>\n",
       "    <th style='text-align:left'>Provider</th>\n",
       "    <th style='text-align:left'>Name</th>\n",
       "    <th style='text-align:left'>qBraid ID</th>\n",
       "    <th style='text-align:left'>Status</th></tr>\n",
       "    <tr>\n",
       "        <td style='text-align:left'>AWS</td>\n",
       "        <td style='text-align:left'>Braket Default Simulator</td>\n",
       "        <td style='text-align:left'><code>aws_braket_default_sim</code></td>\n",
       "        <td><span style='color:green'>●</span></td></tr>\n",
       "        <tr>\n",
       "        <td style='text-align:left'>AWS</td>\n",
       "        <td style='text-align:left'>Density Matrix Simulator</td>\n",
       "        <td style='text-align:left'><code>aws_dm_sim</code></td>\n",
       "        <td><span style='color:green'>●</span></td></tr>\n",
       "        <tr>\n",
       "        <td style='text-align:left'>AWS</td>\n",
       "        <td style='text-align:left'>State Vector Simulator</td>\n",
       "        <td style='text-align:left'><code>aws_sv_sim</code></td>\n",
       "        <td><span style='color:green'>●</span></td></tr>\n",
       "        <tr>\n",
       "        <td style='text-align:left'>AWS</td>\n",
       "        <td style='text-align:left'>Tensor Network Simulator</td>\n",
       "        <td style='text-align:left'><code>aws_tn_sim</code></td>\n",
       "        <td><span style='color:green'>●</span></td></tr>\n",
       "        <tr>\n",
       "        <td style='text-align:left'>D-Wave</td>\n",
       "        <td style='text-align:left'>Advantage_system4</td>\n",
       "        <td style='text-align:left'><code>aws_dwave_advantage_system4</code></td>\n",
       "        <td><span style='color:green'>●</span></td></tr>\n",
       "        <tr>\n",
       "        <td style='text-align:left'>D-Wave</td>\n",
       "        <td style='text-align:left'>DW_2000Q_6</td>\n",
       "        <td style='text-align:left'><code>aws_dwave_2000Q_6</code></td>\n",
       "        <td><span style='color:green'>●</span></td></tr>\n",
       "        <tr>\n",
       "        <td style='text-align:left'>Google</td>\n",
       "        <td style='text-align:left'>Bristlecone</td>\n",
       "        <td style='text-align:left'><code>google_bristlecone</code></td>\n",
       "        <td><span style='color:red'>○</span></td></tr>\n",
       "        <tr>\n",
       "        <td style='text-align:left'>Google</td>\n",
       "        <td style='text-align:left'>Cirq Density Matrix Simulator</td>\n",
       "        <td style='text-align:left'><code>google_cirq_dm_sim</code></td>\n",
       "        <td><span style='color:green'>●</span></td></tr>\n",
       "        <tr>\n",
       "        <td style='text-align:left'>Google</td>\n",
       "        <td style='text-align:left'>Cirq Sparse Simulator</td>\n",
       "        <td style='text-align:left'><code>google_cirq_sparse_sim</code></td>\n",
       "        <td><span style='color:green'>●</span></td></tr>\n",
       "        <tr>\n",
       "        <td style='text-align:left'>Google</td>\n",
       "        <td style='text-align:left'>Foxtail</td>\n",
       "        <td style='text-align:left'><code>google_foxtail</code></td>\n",
       "        <td><span style='color:red'>○</span></td></tr>\n",
       "        <tr>\n",
       "        <td style='text-align:left'>Google</td>\n",
       "        <td style='text-align:left'>Sycamore</td>\n",
       "        <td style='text-align:left'><code>google_sycamore</code></td>\n",
       "        <td><span style='color:red'>○</span></td></tr>\n",
       "        <tr>\n",
       "        <td style='text-align:left'>Google</td>\n",
       "        <td style='text-align:left'>Sycamore23</td>\n",
       "        <td style='text-align:left'><code>google_sycamore23</code></td>\n",
       "        <td><span style='color:red'>○</span></td></tr>\n",
       "        <tr>\n",
       "        <td style='text-align:left'>IBM</td>\n",
       "        <td style='text-align:left'>Aer Default Simulator</td>\n",
       "        <td style='text-align:left'><code>ibm_aer_default_sim</code></td>\n",
       "        <td><span style='color:green'>●</span></td></tr>\n",
       "        <tr>\n",
       "        <td style='text-align:left'>IBM</td>\n",
       "        <td style='text-align:left'>Aer Pulse Simulator</td>\n",
       "        <td style='text-align:left'><code>ibm_aer_pulse_sim</code></td>\n",
       "        <td><span style='color:green'>●</span></td></tr>\n",
       "        <tr>\n",
       "        <td style='text-align:left'>IBM</td>\n",
       "        <td style='text-align:left'>Aer QASM Simulator</td>\n",
       "        <td style='text-align:left'><code>ibm_aer_qasm_sim</code></td>\n",
       "        <td><span style='color:green'>●</span></td></tr>\n",
       "        <tr>\n",
       "        <td style='text-align:left'>IBM</td>\n",
       "        <td style='text-align:left'>Aer State Vector Simulator</td>\n",
       "        <td style='text-align:left'><code>ibm_aer_sv_sim</code></td>\n",
       "        <td><span style='color:green'>●</span></td></tr>\n",
       "        <tr>\n",
       "        <td style='text-align:left'>IBM</td>\n",
       "        <td style='text-align:left'>Aer Unitary Simulator</td>\n",
       "        <td style='text-align:left'><code>ibm_aer_unitary_sim</code></td>\n",
       "        <td><span style='color:green'>●</span></td></tr>\n",
       "        <tr>\n",
       "        <td style='text-align:left'>IBM</td>\n",
       "        <td style='text-align:left'>BasicAer QASM Simulator</td>\n",
       "        <td style='text-align:left'><code>ibm_basicaer_qasm_sim</code></td>\n",
       "        <td><span style='color:green'>●</span></td></tr>\n",
       "        <tr>\n",
       "        <td style='text-align:left'>IBM</td>\n",
       "        <td style='text-align:left'>BasicAer State Vector Simulator</td>\n",
       "        <td style='text-align:left'><code>ibm_basicaer_sv_sim</code></td>\n",
       "        <td><span style='color:green'>●</span></td></tr>\n",
       "        <tr>\n",
       "        <td style='text-align:left'>IBM</td>\n",
       "        <td style='text-align:left'>BasicAer Unitary Simulator</td>\n",
       "        <td style='text-align:left'><code>ibm_basicaer_unitary_sim</code></td>\n",
       "        <td><span style='color:green'>●</span></td></tr>\n",
       "        <tr>\n",
       "        <td style='text-align:left'>IBM</td>\n",
       "        <td style='text-align:left'>IBMQ Belem</td>\n",
       "        <td style='text-align:left'><code>ibm_q_belem</code></td>\n",
       "        <td><span style='color:green'>●</span></td></tr>\n",
       "        <tr>\n",
       "        <td style='text-align:left'>IBM</td>\n",
       "        <td style='text-align:left'>IBMQ Extended Stabilizer Simulator</td>\n",
       "        <td style='text-align:left'><code>ibm_q_ext_stabilizer_sim</code></td>\n",
       "        <td><span style='color:green'>●</span></td></tr>\n",
       "        <tr>\n",
       "        <td style='text-align:left'>IBM</td>\n",
       "        <td style='text-align:left'>IBMQ Lima</td>\n",
       "        <td style='text-align:left'><code>ibm_q_lima</code></td>\n",
       "        <td><span style='color:green'>●</span></td></tr>\n",
       "        <tr>\n",
       "        <td style='text-align:left'>IBM</td>\n",
       "        <td style='text-align:left'>IBMQ Matrix Product State Simulator</td>\n",
       "        <td style='text-align:left'><code>ibm_q_mps_sim</code></td>\n",
       "        <td><span style='color:green'>●</span></td></tr>\n",
       "        <tr>\n",
       "        <td style='text-align:left'>IBM</td>\n",
       "        <td style='text-align:left'>IBMQ Nairobi</td>\n",
       "        <td style='text-align:left'><code>ibm_q_nairobi</code></td>\n",
       "        <td><span style='color:green'>●</span></td></tr>\n",
       "        <tr>\n",
       "        <td style='text-align:left'>IBM</td>\n",
       "        <td style='text-align:left'>IBMQ Oslo</td>\n",
       "        <td style='text-align:left'><code>ibm_q_oslo</code></td>\n",
       "        <td><span style='color:green'>●</span></td></tr>\n",
       "        <tr>\n",
       "        <td style='text-align:left'>IBM</td>\n",
       "        <td style='text-align:left'>IBMQ QASM Simulator</td>\n",
       "        <td style='text-align:left'><code>ibm_q_qasm_sim</code></td>\n",
       "        <td><span style='color:green'>●</span></td></tr>\n",
       "        <tr>\n",
       "        <td style='text-align:left'>IBM</td>\n",
       "        <td style='text-align:left'>IBMQ Quito</td>\n",
       "        <td style='text-align:left'><code>ibm_q_quito</code></td>\n",
       "        <td><span style='color:green'>●</span></td></tr>\n",
       "        <tr>\n",
       "        <td style='text-align:left'>IBM</td>\n",
       "        <td style='text-align:left'>IBMQ Santiago</td>\n",
       "        <td style='text-align:left'><code>ibm_q_manila</code></td>\n",
       "        <td><span style='color:green'>●</span></td></tr>\n",
       "        <tr>\n",
       "        <td style='text-align:left'>IBM</td>\n",
       "        <td style='text-align:left'>IBMQ Stabilizer Simulator</td>\n",
       "        <td style='text-align:left'><code>ibm_q_stabilizer_sim</code></td>\n",
       "        <td><span style='color:green'>●</span></td></tr>\n",
       "        <tr>\n",
       "        <td style='text-align:left'>IBM</td>\n",
       "        <td style='text-align:left'>IBMQ State Vector Simulator</td>\n",
       "        <td style='text-align:left'><code>ibm_q_sv_sim</code></td>\n",
       "        <td><span style='color:green'>●</span></td></tr>\n",
       "        <tr>\n",
       "        <td style='text-align:left'>IonQ</td>\n",
       "        <td style='text-align:left'>IonQ Device</td>\n",
       "        <td style='text-align:left'><code>aws_ionq</code></td>\n",
       "        <td><span style='color:green'>●</span></td></tr>\n",
       "        <tr>\n",
       "        <td style='text-align:left'>OQC</td>\n",
       "        <td style='text-align:left'>Lucy</td>\n",
       "        <td style='text-align:left'><code>aws_oqc_lucy</code></td>\n",
       "        <td><span style='color:green'>●</span></td></tr>\n",
       "        <tr>\n",
       "        <td style='text-align:left'>Rigetti</td>\n",
       "        <td style='text-align:left'>Aspen-11</td>\n",
       "        <td style='text-align:left'><code>aws_rigetti_aspen_11</code></td>\n",
       "        <td><span style='color:red'>○</span></td></tr>\n",
       "        <tr>\n",
       "        <td style='text-align:left'>Rigetti</td>\n",
       "        <td style='text-align:left'>Aspen-M-1</td>\n",
       "        <td style='text-align:left'><code>aws_rigetti_aspen_m_1</code></td>\n",
       "        <td><span style='color:green'>●</span></td></tr>\n",
       "        <tr>\n",
       "        <td style='text-align:left'>Rigetti</td>\n",
       "        <td style='text-align:left'>Aspen-M-2</td>\n",
       "        <td style='text-align:left'><code>aws_rigetti_aspen_m_2</code></td>\n",
       "        <td><span style='color:green'>●</span></td></tr>\n",
       "        <tr>\n",
       "        <td style='text-align:left'>Xanadu</td>\n",
       "        <td style='text-align:left'>Borealis</td>\n",
       "        <td style='text-align:left'><code>aws_xanadu_borealis</code></td>\n",
       "        <td><span style='color:green'>●</span></td></tr>\n",
       "        <tr><td colspan='4'; style='text-align:right'>Device status updated 5.5 hours ago</td></tr></table>"
      ],
      "text/plain": [
       "<IPython.core.display.HTML object>"
      ]
     },
     "metadata": {},
     "output_type": "display_data"
    }
   ],
   "source": [
    "get_devices()"
   ]
  },
  {
   "cell_type": "markdown",
   "id": "ffacea0b-d779-4ae9-8985-b295086f0243",
   "metadata": {},
   "source": [
    "Don't forget to add your IBMQ Key"
   ]
  },
  {
   "cell_type": "code",
   "execution_count": null,
   "id": "d030ba80-037e-4e38-b36c-be650ceeb83b",
   "metadata": {},
   "outputs": [],
   "source": [
    "IBMQ.save_account('YOUR_IBMQ_KEY')"
   ]
  },
  {
   "cell_type": "code",
   "execution_count": null,
   "id": "ddfdfe7d-ad42-41d8-b41a-822475d194e9",
   "metadata": {},
   "outputs": [],
   "source": [
    "from qbraid import device_wrapper, job_wrapper, get_jobs\n",
    "from qbraid.api import ibmq_least_busy_qpu, verify_config"
   ]
  },
  {
   "cell_type": "markdown",
   "id": "d0fefcca-f2b0-44dc-9d26-98be8ddf10d4",
   "metadata": {},
   "source": [
    "### A simple circuit"
   ]
  },
  {
   "cell_type": "code",
   "execution_count": null,
   "id": "9f54d7ef-2a8d-45f8-be0f-ed1b61d16d38",
   "metadata": {},
   "outputs": [],
   "source": [
    "from qiskit import QuantumCircuit\n",
    "import numpy as np\n",
    "\n",
    "qiskit_circuit = QuantumCircuit(1, 1)\n",
    "\n",
    "qiskit_circuit.h(0)\n",
    "qiskit_circuit.ry(np.pi / 4, 0)\n",
    "qiskit_circuit.rz(np.pi / 2, 0)\n",
    "qiskit_circuit.measure(0, 0)\n",
    "\n",
    "qiskit_circuit.draw()"
   ]
  },
  {
   "cell_type": "markdown",
   "id": "c90b77fe-f8ca-49a5-8641-e5db093d43a8",
   "metadata": {},
   "source": [
    "#### Specify devices\n",
    "We will specfiy which device we want to run in this case we will run the qiskit circuit on aws and google."
   ]
  },
  {
   "cell_type": "code",
   "execution_count": null,
   "id": "bbd4c744-62c5-48eb-b580-4427dc3946d2",
   "metadata": {},
   "outputs": [],
   "source": [
    "shots=200\n",
    "google_id = \"google_cirq_dm_sim\"\n",
    "qbraid_google_device = device_wrapper(google_id)\n",
    "\n",
    "aws_id = \"aws_dm_sim\"\n",
    "qbraid_aws_device = device_wrapper(aws_id)  # Credential handled by qBraid Quantum Jobs"
   ]
  },
  {
   "cell_type": "markdown",
   "id": "e9f67211-81da-4a48-b560-140ba213dc80",
   "metadata": {},
   "source": [
    "Let's run the circuit!!!"
   ]
  },
  {
   "cell_type": "code",
   "execution_count": null,
   "id": "4ad4e339-4f26-45e1-a36a-73f13865a05e",
   "metadata": {},
   "outputs": [],
   "source": [
    "qbraid_google_job = qbraid_google_device.run(qiskit_circuit, shots=shots)\n",
    "qbraid_aws_job = qbraid_aws_device.run(qiskit_circuit, shots=shots)"
   ]
  },
  {
   "cell_type": "markdown",
   "id": "f0cdd092-5036-4a2b-b209-a25756861f5f",
   "metadata": {},
   "source": [
    "#### Monitor and manage your jobs from one location"
   ]
  },
  {
   "cell_type": "code",
   "execution_count": null,
   "id": "586a1bcb-305e-40f7-9d3b-99bd2fb4ea22",
   "metadata": {},
   "outputs": [],
   "source": [
    "get_jobs()"
   ]
  },
  {
   "cell_type": "code",
   "execution_count": null,
   "id": "805ac394-c671-4426-b4bb-6193eadc97fe",
   "metadata": {},
   "outputs": [],
   "source": [
    "jobs = [qbraid_google_job, qbraid_aws_job]\n",
    "google_result, aws_result = [job.result() for job in jobs]"
   ]
  },
  {
   "cell_type": "markdown",
   "id": "1f8f1157-31a5-417d-b802-5d16810557a9",
   "metadata": {},
   "source": [
    "##### Get results"
   ]
  },
  {
   "cell_type": "code",
   "execution_count": null,
   "id": "e88c26ad-3697-49cf-a73e-6cdbaf2f1d76",
   "metadata": {},
   "outputs": [],
   "source": [
    "print(f\"{qbraid_google_device.name} counts: {google_result.measurement_counts()}\")\n",
    "print(f\"{qbraid_aws_device.name} counts: {aws_result.measurement_counts()}\")"
   ]
  },
  {
   "cell_type": "code",
   "execution_count": null,
   "id": "717b525c-ed8b-4bf9-9240-dbc944c62969",
   "metadata": {},
   "outputs": [],
   "source": [
    "google_result.plot_counts()"
   ]
  },
  {
   "cell_type": "code",
   "execution_count": null,
   "id": "861c4186-e72e-455e-a4cc-1a031acdc084",
   "metadata": {},
   "outputs": [],
   "source": [
    "aws_result.plot_counts()"
   ]
  },
  {
   "cell_type": "code",
   "execution_count": null,
   "id": "cc91b923-ca54-4796-b7a6-a918940c0e28",
   "metadata": {},
   "outputs": [],
   "source": []
  }
 ],
 "metadata": {
  "kernelspec": {
   "display_name": "Python 3 [qBraid-SDK]",
   "language": "python",
   "name": "python3_qbraid_sdk_9j9sjy"
  },
  "language_info": {
   "codemirror_mode": {
    "name": "ipython",
    "version": 3
   },
   "file_extension": ".py",
   "mimetype": "text/x-python",
   "name": "python",
   "nbconvert_exporter": "python",
   "pygments_lexer": "ipython3",
   "version": "3.9.10"
  }
 },
 "nbformat": 4,
 "nbformat_minor": 5
}
