{
 "cells": [
  {
   "cell_type": "markdown",
   "id": "d912ae07-6dda-4f8a-b84a-0a4d54ef92fb",
   "metadata": {},
   "source": [
    "<h1 style=\"color:#9A11DA;\"> What is a Hadamard Test?</h1> \n",
    "The Hadamard Test allows for estimating the measurment $\\langle \\psi | U | \\psi \\rangle$ for a unitary operation $U$ and a quantum state $|\\psi \\rangle$. In this challenge you'll be working on creating the Hadamard Test for measuring both real and imaginary values on various quantum computers. \n",
    "\n",
    "Here's some documentation for you to get started:\n",
    "\n",
    "[Wikipedia](https://en.wikipedia.org/wiki/Hadamard_test_(quantum_computation))\n",
    "\n",
    "[Victoroy Omole's Blog on QPE and Hadamard Test](https://vtomole.com/blog/2018/05/20/pea)\n"
   ]
  },
  {
   "cell_type": "markdown",
   "id": "5899ada3-b2a9-4caf-a452-af0ae617e994",
   "metadata": {
    "jp-MarkdownHeadingCollapsed": true,
    "tags": []
   },
   "source": [
    "<h2 style=\"color:#9A11DA;\">qBraid SDK</h2> \n",
    "\n",
    "qBraid-SDK is our tool to braid various quantum SDKs into one cohesive experience. With qBraid-SDK, you can develop quantum circuits and run them on quantum computers available from, IBM, Rigetti, OQC, and IonQ. You are also welcome to develop your quantum circuits in the language of your choice (qiskit, cirq, braket, or qasm) and specify the quantum device you want to run them, and qBraid-SDK will run the circuits and get you the results. qBraid-SDK includes a transpiler which allows it to convert the circuits between various languages. You can also use the transpiler for your quantum code. The SDK also has many auxiliary features that allow you to keep track of your quantum jobs and find out the status of various quantum computers. \n",
    "Learn more about the qBraid-SDK at https://qbraid-qbraid.readthedocs-hosted.com/en/latest/sdk/overview.html"
   ]
  },
  {
   "cell_type": "markdown",
   "id": "ea514a0e-d4b9-4769-bb27-b00c9d3fd10e",
   "metadata": {
    "jp-MarkdownHeadingCollapsed": true,
    "tags": []
   },
   "source": [
    "<h2 style=\"color:#9A11DA;\">Getting Started </h2>\n",
    "\n",
    "### Add permissions and credits\n",
    "1. Make sure you have added the code `QISKITFALL22` on your [account](https://account.qbraid.com/account-details)  in the **Add an access key** section.  If you already have already done this step move onto step 4.\n",
    "\n",
    "<img align=\"center\" width='350px' src='./images/account_details.png'>\n",
    "2. You should receive a message like this:\n",
    "\n",
    "<img align=\"center\" width='350px' src='./images/confirmed.png'>\n",
    "3. Reload this page!\n",
    "\n",
    "## Activate the qBraid SDK environment\n",
    "4. On the top right you should see the `ENVS` button. Click it!\n",
    "5. Click the +ADD button and open the drop down arrow \n",
    "\n",
    "<img align=\"center\"  width='100px' src='./images/add.png'>\n",
    "6. Install the qBraid SDK! It will take a few minutes.\n",
    "\n",
    "<img align=\"center\"  width='200px' src='./images/qbraid_sdk.png'>\n",
    "7. Activate the environment\n",
    "\n",
    "<img align=\"center\"  width='200px' src='./images/activate.png'>\n",
    "\n",
    "8. Activate the kernel\n",
    "\n",
    "<img align=\"center\"  width='200px' src='./images/kernel.png'>\n",
    "\n"
   ]
  },
  {
   "cell_type": "markdown",
   "id": "1351ca03-9c9d-482a-aead-16c0d29257fd",
   "metadata": {},
   "source": [
    "## You're all ready to go!\n",
    "By running the cell below you will be able to run quantum jobs on qBraid. Learn more about the qBraid SDK [here](https://qbraid-qbraid.readthedocs-hosted.com/en/stable/sdk/overview.html)\n",
    "\n",
    "### How to win\n",
    "**Creativity is key here.** Try to learn about what our SDK is capable and the various applications of the hadmard test. Some ideas can be to use the two functions to make a game, extend it in the likes of the Aharonov-Jones-Landau algorithm, computing inner products and more. \n",
    "\n",
    "**Run on multiple simulators and devices using the qBraid SDK's transpiling and job submitting functionality is also key!**\n",
    "\n",
    "**Write clean documentation and code** Clean code will help judges discern who understands the material and can conscisely explain it to others.\n",
    "\n",
    "**Provide installation instructions** If there are any additional installation/getting started steps please mention them!"
   ]
  },
  {
   "cell_type": "code",
   "execution_count": null,
   "id": "3d7ae6f3-acd6-4666-913e-96f7cabefd8b",
   "metadata": {},
   "outputs": [],
   "source": [
    "! qbraid jobs enable qbraid_sdk"
   ]
  },
  {
   "cell_type": "code",
   "execution_count": null,
   "id": "0fdb4b77-d896-43a9-86ac-ba86ef3e7847",
   "metadata": {},
   "outputs": [],
   "source": [
    "def hadamard_test_real():\n",
    "    # Creating the circuit\n",
    "    qreg = QuantumRegister(2)\n",
    "    creg = ClassicalRegister(1)\n",
    "    qc = QuantumCircuit(qreg, creg)\n",
    "    \n",
    "    # applying the test \n",
    "    qc.h(0) \n",
    "    qc.cu(np.pi/2, np.pi/2, np.pi/2, 0,0,1)\n",
    "    qc.h(0)\n",
    "    \n",
    "    qc.measure(0, 0) \n",
    "\n",
    "hadamard_test_real()"
   ]
  },
  {
   "cell_type": "code",
   "execution_count": null,
   "id": "c77a65d0-5a2d-4977-81f3-c596e3ac1150",
   "metadata": {},
   "outputs": [],
   "source": [
    "def hadamard_test_imag():\n",
    "    # Creating the circuit\n",
    "    qreg = QuantumRegister(2)\n",
    "    creg = ClassicalRegister(1)\n",
    "    qc = QuantumCircuit(qreg, creg)\n",
    "    \n",
    "    \n",
    "    # applying the test \n",
    "    qc.x(0)\n",
    "    qc.x(1)\n",
    "    qc.h(0)\n",
    "    qc.s(0)\n",
    "    qc.s(0)\n",
    "    # qc.cu1(np.pi,0,1) doesnt work bcz of a version probleme\n",
    "    qc.cp(np.pi,0,1)\n",
    "    \n",
    "    qc.measure(0, 0) \n",
    "    # This indicates that we want to measure the first qubit (idx: 0) \n",
    "    # and write the result in the first (classical) bit (idx: 0) \n",
    "\n",
    "hadamard_test_imag()"
   ]
  },
  {
   "cell_type": "markdown",
   "id": "19163a38-4b1d-490f-82d9-538e0e7fb1f0",
   "metadata": {},
   "source": [
    "### qBraid SDK DEMO: Run on various hardware\n"
   ]
  },
  {
   "cell_type": "code",
   "execution_count": null,
   "id": "950081ce-169b-4b55-a640-200ec2387999",
   "metadata": {},
   "outputs": [],
   "source": [
    "from qbraid import get_devices"
   ]
  },
  {
   "cell_type": "code",
   "execution_count": null,
   "id": "bd49db4d-2815-4ce4-ad19-a2ec7bf2ff6e",
   "metadata": {},
   "outputs": [],
   "source": [
    "get_devices()"
   ]
  },
  {
   "cell_type": "markdown",
   "id": "ffacea0b-d779-4ae9-8985-b295086f0243",
   "metadata": {},
   "source": [
    "Don't forget to add your IBMQ Key"
   ]
  },
  {
   "cell_type": "code",
   "execution_count": null,
   "id": "d030ba80-037e-4e38-b36c-be650ceeb83b",
   "metadata": {},
   "outputs": [],
   "source": [
    "IBMQ.save_account('YOUR_IBMQ_KEY')"
   ]
  },
  {
   "cell_type": "code",
   "execution_count": null,
   "id": "ddfdfe7d-ad42-41d8-b41a-822475d194e9",
   "metadata": {},
   "outputs": [],
   "source": [
    "from qbraid import device_wrapper, job_wrapper, get_jobs\n",
    "from qbraid.api import ibmq_least_busy_qpu, verify_config"
   ]
  },
  {
   "cell_type": "markdown",
   "id": "d0fefcca-f2b0-44dc-9d26-98be8ddf10d4",
   "metadata": {},
   "source": [
    "### A simple circuit"
   ]
  },
  {
   "cell_type": "code",
   "execution_count": null,
   "id": "9f54d7ef-2a8d-45f8-be0f-ed1b61d16d38",
   "metadata": {},
   "outputs": [],
   "source": [
    "from qiskit import QuantumCircuit\n",
    "import numpy as np\n",
    "\n",
    "qiskit_circuit = QuantumCircuit(1, 1)\n",
    "\n",
    "qiskit_circuit.h(0)\n",
    "qiskit_circuit.ry(np.pi / 4, 0)\n",
    "qiskit_circuit.rz(np.pi / 2, 0)\n",
    "qiskit_circuit.measure(0, 0)\n",
    "\n",
    "qiskit_circuit.draw()"
   ]
  },
  {
   "cell_type": "markdown",
   "id": "c90b77fe-f8ca-49a5-8641-e5db093d43a8",
   "metadata": {},
   "source": [
    "#### Specify devices\n",
    "We will specfiy which device we want to run in this case we will run the qiskit circuit on aws and google."
   ]
  },
  {
   "cell_type": "code",
   "execution_count": null,
   "id": "bbd4c744-62c5-48eb-b580-4427dc3946d2",
   "metadata": {},
   "outputs": [],
   "source": [
    "shots=200\n",
    "google_id = \"google_cirq_dm_sim\"\n",
    "qbraid_google_device = device_wrapper(google_id)\n",
    "\n",
    "aws_id = \"aws_dm_sim\"\n",
    "qbraid_aws_device = device_wrapper(aws_id)  # Credential handled by qBraid Quantum Jobs"
   ]
  },
  {
   "cell_type": "markdown",
   "id": "e9f67211-81da-4a48-b560-140ba213dc80",
   "metadata": {},
   "source": [
    "Let's run the circuit!!!"
   ]
  },
  {
   "cell_type": "code",
   "execution_count": null,
   "id": "4ad4e339-4f26-45e1-a36a-73f13865a05e",
   "metadata": {},
   "outputs": [],
   "source": [
    "qbraid_google_job = qbraid_google_device.run(qiskit_circuit, shots=shots)\n",
    "qbraid_aws_job = qbraid_aws_device.run(qiskit_circuit, shots=shots)"
   ]
  },
  {
   "cell_type": "markdown",
   "id": "f0cdd092-5036-4a2b-b209-a25756861f5f",
   "metadata": {},
   "source": [
    "#### Monitor and manage your jobs from one location"
   ]
  },
  {
   "cell_type": "code",
   "execution_count": null,
   "id": "586a1bcb-305e-40f7-9d3b-99bd2fb4ea22",
   "metadata": {},
   "outputs": [],
   "source": [
    "get_jobs()"
   ]
  },
  {
   "cell_type": "code",
   "execution_count": null,
   "id": "805ac394-c671-4426-b4bb-6193eadc97fe",
   "metadata": {},
   "outputs": [],
   "source": [
    "jobs = [qbraid_google_job, qbraid_aws_job]\n",
    "google_result, aws_result = [job.result() for job in jobs]"
   ]
  },
  {
   "cell_type": "markdown",
   "id": "1f8f1157-31a5-417d-b802-5d16810557a9",
   "metadata": {},
   "source": [
    "##### Get results"
   ]
  },
  {
   "cell_type": "code",
   "execution_count": null,
   "id": "e88c26ad-3697-49cf-a73e-6cdbaf2f1d76",
   "metadata": {},
   "outputs": [],
   "source": [
    "print(f\"{qbraid_google_device.name} counts: {google_result.measurement_counts()}\")\n",
    "print(f\"{qbraid_aws_device.name} counts: {aws_result.measurement_counts()}\")"
   ]
  },
  {
   "cell_type": "code",
   "execution_count": null,
   "id": "717b525c-ed8b-4bf9-9240-dbc944c62969",
   "metadata": {},
   "outputs": [],
   "source": [
    "google_result.plot_counts()"
   ]
  },
  {
   "cell_type": "code",
   "execution_count": null,
   "id": "861c4186-e72e-455e-a4cc-1a031acdc084",
   "metadata": {},
   "outputs": [],
   "source": [
    "aws_result.plot_counts()"
   ]
  },
  {
   "cell_type": "code",
   "execution_count": null,
   "id": "cc91b923-ca54-4796-b7a6-a918940c0e28",
   "metadata": {},
   "outputs": [],
   "source": []
  }
 ],
 "metadata": {
  "kernelspec": {
   "display_name": "Python 3 [qBraid-SDK]",
   "language": "python",
   "name": "python3_qbraid_sdk_9j9sjy"
  },
  "language_info": {
   "codemirror_mode": {
    "name": "ipython",
    "version": 3
   },
   "file_extension": ".py",
   "mimetype": "text/x-python",
   "name": "python",
   "nbconvert_exporter": "python",
   "pygments_lexer": "ipython3",
   "version": "3.9.10"
  }
 },
 "nbformat": 4,
 "nbformat_minor": 5
}
